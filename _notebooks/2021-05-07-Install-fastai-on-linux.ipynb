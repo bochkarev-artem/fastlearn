{
 "cells": [
  {
   "cell_type": "markdown",
   "metadata": {},
   "source": [
    "# Install fastai on Linux (Ubuntu)\n",
    "\n",
    "\n",
    "- toc: false \n",
    "- badges: true\n",
    "- comments: true\n",
    "- sticky_rank: 1\n",
    "- author: Artyom Bochkarev\n",
    "- categories: [fastai, linux installation]"
   ]
  },
  {
   "cell_type": "markdown",
   "metadata": {},
   "source": [
    "## Why do you want to do it (and when not to do it)\n",
    "\n",
    "So you decided to create your local environment instead of hosting your notebooks on some cloud hosting.\n",
    "There are some benefits to that:\n",
    "\n",
    "- You dont depend on 3rd party service, you can run your environment anytime you want, even offline\n",
    "- You are more flexible with your code (you can run your notebooks not only in browser, but also in some IDE or text editor that you prefer)\n",
    "- You dont pay / wait for server to spin up\n",
    "\n",
    "But there are defenitely some downsides:\n",
    "- There is much of a hustle to install it (actually not, but sometimes you will have problems every now and then)\n",
    "- You need to have a good hardware (Author of this article runs it on 2GB Nvidia Geforce 1050 and its very slow even in comparison to free resources, such as Colab, and some time there is out of memory problems. Though its still faster than on CPU)"
   ]
  },
  {
   "cell_type": "markdown",
   "metadata": {},
   "source": [
    "### Prerequisites\n",
    "\n",
    "You should be familiar with how to work with terminal. You can check tutorial [here](https://course19.fast.ai/terminal_tutorial.html)."
   ]
  },
  {
   "cell_type": "markdown",
   "metadata": {},
   "source": [
    "## Installation on local computer with Linux (Ubuntu) pre-installed\n",
    "\n",
    "So what do you actually need to install fastai + pytorch on you local machine.\n",
    "Well, its pretty simple and straightforward.\n",
    "Given that you know that your video card is CUDA capable (which you can find out in this guide https://docs.nvidia.com/cuda/cuda-installation-guide-linux/index.html#system-requirements), all you need to do is follow these commands:\n",
    "\n",
    "1. Download miniconda: https://docs.nvidia.com/cuda/cuda-installation-guide-linux/index.html#system-requirements and go to directory where you downloaded it and execute it:\n",
    "```bash\n",
    "sh Miniconda3-py39_4.9.2-Linux-x86_64.sh\n",
    "```\n",
    "2. Than you need to init conda and create an environment, so all dependencies live in this env separate from your system's\n",
    "> Note: I assume you have python installed, if not, you need to install it and change the version in following command (3.9) if it differs from your\n",
    "\n",
    "```bash\n",
    "conda init zsh\n",
    "conda create --name fast python=3.9 -y\n",
    "```\n",
    "\n",
    "> Note: You see i have zsh (instead of bash), so use what is appropriate for you.\n",
    "\n",
    "3. Install dependencies\n",
    "\n",
    "```bash\n",
    "conda install -c fastchan fastai\n",
    "conda install -c conda-forge jupyterlab\n",
    "```\n",
    "\n",
    "And you are good to go with minimum installation. Note that nvidia toolkit should be downloaded as dependency during last step. There is no need to download it separately (although you might want to install and switch on proprietary nvidia drivers for Ubuntu, latest version is 465 when writing this post).\n",
    "\n",
    "To run your notebook you need simply to go to your notebooks location in terminal and run:\n",
    "```bash\n",
    "jupyter notebook\n",
    "```"
   ]
  },
  {
   "cell_type": "markdown",
   "metadata": {},
   "source": [
    "## Problems"
   ]
  },
  {
   "cell_type": "markdown",
   "metadata": {},
   "source": [
    "Of course you might encounter some issues during or after installation.\n",
    "Common thing is if you have not enough GPU memory you will see out of memory a lot. One of the solution is to decrease batch size to 16 (8, 4, 2) and restart kernel of notebook. But then you will notice increase in time for training. This is the price you will pay for having low memory. \n",
    "Here you can find more about [batch size](https://render.githubusercontent.com/view/ipynb?color_mode=dark&commit=8be580737ee0cc17746a5ed68283150d489b3dc4&enc_url=68747470733a2f2f7261772e67697468756275736572636f6e74656e742e636f6d2f6661737461692f66617374626f6f6b2f386265353830373337656530636331373734366135656436383238333135306434383962336463342f30315f696e74726f2e6970796e62&nwo=fastai%2Ffastbook&path=01_intro.ipynb&repository_id=243838973&repository_type=Repository#clean)."
   ]
  }
 ],
 "metadata": {
  "kernelspec": {
   "display_name": "Python 3",
   "language": "python",
   "name": "python3"
  },
  "language_info": {
   "codemirror_mode": {
    "name": "ipython",
    "version": 3
   },
   "file_extension": ".py",
   "mimetype": "text/x-python",
   "name": "python",
   "nbconvert_exporter": "python",
   "pygments_lexer": "ipython3",
   "version": "3.9.4"
  }
 },
 "nbformat": 4,
 "nbformat_minor": 2
}
